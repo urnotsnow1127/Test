{
 "cells": [
  {
   "cell_type": "code",
   "execution_count": 5,
   "id": "2fa01bc1-4b6f-49c1-9dca-a97e8bad16be",
   "metadata": {},
   "outputs": [],
   "source": [
    "import pandas            as pd   \n",
    "import numpy             as np   \n",
    "import scipy             as scp  \n",
    "import matplotlib.pyplot as plt \n",
    "import os as os\n",
    "from datetime import date as dd \n",
    "from scipy import stats    \n",
    "from scipy import optimize\n",
    "import statsmodels.api as sm"
   ]
  },
  {
   "cell_type": "code",
   "execution_count": 6,
   "id": "051f6b52-01bd-4860-86b2-0367c6a197d9",
   "metadata": {},
   "outputs": [
    {
     "data": {
      "text/plain": [
       "'/Users/pengxue/Desktop/UCSD/402 Investment/Assignment 1'"
      ]
     },
     "execution_count": 6,
     "metadata": {},
     "output_type": "execute_result"
    }
   ],
   "source": [
    "os.getcwd()\n",
    "df=pd.read_excel('Assignment 1_MF402_2024.xlsx', sheet_name= 1 )\n",
    "os.getcwd()"
   ]
  },
  {
   "cell_type": "code",
   "execution_count": 7,
   "id": "528bdff1-1b5c-4bc3-9597-36643a33057d",
   "metadata": {},
   "outputs": [
    {
     "data": {
      "text/html": [
       "<div>\n",
       "<style scoped>\n",
       "    .dataframe tbody tr th:only-of-type {\n",
       "        vertical-align: middle;\n",
       "    }\n",
       "\n",
       "    .dataframe tbody tr th {\n",
       "        vertical-align: top;\n",
       "    }\n",
       "\n",
       "    .dataframe thead th {\n",
       "        text-align: right;\n",
       "    }\n",
       "</style>\n",
       "<table border=\"1\" class=\"dataframe\">\n",
       "  <thead>\n",
       "    <tr style=\"text-align: right;\">\n",
       "      <th></th>\n",
       "      <th>Date</th>\n",
       "      <th>vwret</th>\n",
       "      <th>mkt_index</th>\n",
       "      <th>dp</th>\n",
       "      <th>10y</th>\n",
       "      <th>10y_index</th>\n",
       "      <th>3m</th>\n",
       "      <th>3m_index</th>\n",
       "      <th>cpi</th>\n",
       "      <th>cpi_index</th>\n",
       "      <th>...</th>\n",
       "      <th>manuf</th>\n",
       "      <th>energy</th>\n",
       "      <th>chems</th>\n",
       "      <th>buseq</th>\n",
       "      <th>telcm</th>\n",
       "      <th>utils</th>\n",
       "      <th>shops</th>\n",
       "      <th>health</th>\n",
       "      <th>money</th>\n",
       "      <th>other</th>\n",
       "    </tr>\n",
       "  </thead>\n",
       "  <tbody>\n",
       "    <tr>\n",
       "      <th>0</th>\n",
       "      <td>01/31/1970</td>\n",
       "      <td>-0.075398</td>\n",
       "      <td>100.000000</td>\n",
       "      <td>0.037207</td>\n",
       "      <td>0.028827</td>\n",
       "      <td>100.000000</td>\n",
       "      <td>0.007158</td>\n",
       "      <td>100.000000</td>\n",
       "      <td>0.002653</td>\n",
       "      <td>100.000000</td>\n",
       "      <td>...</td>\n",
       "      <td>-7.82</td>\n",
       "      <td>-11.45</td>\n",
       "      <td>-5.44</td>\n",
       "      <td>-9.17</td>\n",
       "      <td>-2.57</td>\n",
       "      <td>-4.23</td>\n",
       "      <td>-5.88</td>\n",
       "      <td>-7.12</td>\n",
       "      <td>-9.18</td>\n",
       "      <td>-8.53</td>\n",
       "    </tr>\n",
       "    <tr>\n",
       "      <th>1</th>\n",
       "      <td>02/28/1970</td>\n",
       "      <td>0.059521</td>\n",
       "      <td>105.269348</td>\n",
       "      <td>0.035382</td>\n",
       "      <td>0.067886</td>\n",
       "      <td>106.788595</td>\n",
       "      <td>0.007986</td>\n",
       "      <td>100.798584</td>\n",
       "      <td>0.005291</td>\n",
       "      <td>100.562430</td>\n",
       "      <td>...</td>\n",
       "      <td>5.68</td>\n",
       "      <td>5.38</td>\n",
       "      <td>3.36</td>\n",
       "      <td>2.94</td>\n",
       "      <td>7.96</td>\n",
       "      <td>8.36</td>\n",
       "      <td>5.23</td>\n",
       "      <td>5.60</td>\n",
       "      <td>11.44</td>\n",
       "      <td>7.86</td>\n",
       "    </tr>\n",
       "    <tr>\n",
       "      <th>2</th>\n",
       "      <td>03/31/1970</td>\n",
       "      <td>0.002806</td>\n",
       "      <td>105.422254</td>\n",
       "      <td>0.035368</td>\n",
       "      <td>-0.000269</td>\n",
       "      <td>106.759882</td>\n",
       "      <td>0.007078</td>\n",
       "      <td>101.512027</td>\n",
       "      <td>0.005263</td>\n",
       "      <td>101.124859</td>\n",
       "      <td>...</td>\n",
       "      <td>-0.27</td>\n",
       "      <td>-0.45</td>\n",
       "      <td>-0.38</td>\n",
       "      <td>-2.59</td>\n",
       "      <td>2.29</td>\n",
       "      <td>2.91</td>\n",
       "      <td>-1.69</td>\n",
       "      <td>-5.08</td>\n",
       "      <td>-0.77</td>\n",
       "      <td>-2.91</td>\n",
       "    </tr>\n",
       "    <tr>\n",
       "      <th>3</th>\n",
       "      <td>04/30/1970</td>\n",
       "      <td>-0.088831</td>\n",
       "      <td>95.883322</td>\n",
       "      <td>0.038927</td>\n",
       "      <td>-0.050871</td>\n",
       "      <td>101.328913</td>\n",
       "      <td>0.005494</td>\n",
       "      <td>102.069753</td>\n",
       "      <td>0.007853</td>\n",
       "      <td>101.912261</td>\n",
       "      <td>...</td>\n",
       "      <td>-9.78</td>\n",
       "      <td>-9.17</td>\n",
       "      <td>-6.24</td>\n",
       "      <td>-14.45</td>\n",
       "      <td>-8.79</td>\n",
       "      <td>-8.05</td>\n",
       "      <td>-11.08</td>\n",
       "      <td>-10.11</td>\n",
       "      <td>-12.78</td>\n",
       "      <td>-14.51</td>\n",
       "    </tr>\n",
       "    <tr>\n",
       "      <th>4</th>\n",
       "      <td>05/31/1970</td>\n",
       "      <td>-0.054689</td>\n",
       "      <td>90.037638</td>\n",
       "      <td>0.041498</td>\n",
       "      <td>-0.006522</td>\n",
       "      <td>100.668015</td>\n",
       "      <td>0.006237</td>\n",
       "      <td>102.706368</td>\n",
       "      <td>0.002597</td>\n",
       "      <td>102.137233</td>\n",
       "      <td>...</td>\n",
       "      <td>-9.01</td>\n",
       "      <td>2.61</td>\n",
       "      <td>-2.97</td>\n",
       "      <td>-9.50</td>\n",
       "      <td>-3.75</td>\n",
       "      <td>-5.36</td>\n",
       "      <td>-9.45</td>\n",
       "      <td>-7.78</td>\n",
       "      <td>-8.37</td>\n",
       "      <td>-8.14</td>\n",
       "    </tr>\n",
       "  </tbody>\n",
       "</table>\n",
       "<p>5 rows × 28 columns</p>\n",
       "</div>"
      ],
      "text/plain": [
       "         Date     vwret   mkt_index        dp       10y   10y_index        3m  \\\n",
       "0  01/31/1970 -0.075398  100.000000  0.037207  0.028827  100.000000  0.007158   \n",
       "1  02/28/1970  0.059521  105.269348  0.035382  0.067886  106.788595  0.007986   \n",
       "2  03/31/1970  0.002806  105.422254  0.035368 -0.000269  106.759882  0.007078   \n",
       "3  04/30/1970 -0.088831   95.883322  0.038927 -0.050871  101.328913  0.005494   \n",
       "4  05/31/1970 -0.054689   90.037638  0.041498 -0.006522  100.668015  0.006237   \n",
       "\n",
       "     3m_index       cpi   cpi_index  ...  manuf  energy  chems  buseq  telcm  \\\n",
       "0  100.000000  0.002653  100.000000  ...  -7.82  -11.45  -5.44  -9.17  -2.57   \n",
       "1  100.798584  0.005291  100.562430  ...   5.68    5.38   3.36   2.94   7.96   \n",
       "2  101.512027  0.005263  101.124859  ...  -0.27   -0.45  -0.38  -2.59   2.29   \n",
       "3  102.069753  0.007853  101.912261  ...  -9.78   -9.17  -6.24 -14.45  -8.79   \n",
       "4  102.706368  0.002597  102.137233  ...  -9.01    2.61  -2.97  -9.50  -3.75   \n",
       "\n",
       "   utils  shops  health  money  other  \n",
       "0  -4.23  -5.88   -7.12  -9.18  -8.53  \n",
       "1   8.36   5.23    5.60  11.44   7.86  \n",
       "2   2.91  -1.69   -5.08  -0.77  -2.91  \n",
       "3  -8.05 -11.08  -10.11 -12.78 -14.51  \n",
       "4  -5.36  -9.45   -7.78  -8.37  -8.14  \n",
       "\n",
       "[5 rows x 28 columns]"
      ]
     },
     "execution_count": 7,
     "metadata": {},
     "output_type": "execute_result"
    }
   ],
   "source": [
    "df.head()"
   ]
  },
  {
   "cell_type": "code",
   "execution_count": 8,
   "id": "c54239f4-eb07-4d78-8156-e864b15eba07",
   "metadata": {},
   "outputs": [],
   "source": [
    "date = df.iloc[:,0]\n",
    "returns = df.iloc[:,1]         # Nominal returns\n",
    "inflation = df.iloc[:,8]       # Inflation\n",
    "real_ret = returns - inflation # Real returns\n",
    "\n",
    "# Fill in rfrate and rf10 from the dataframe\n",
    "rfrate = df.iloc[:,6]          # Risk free rate\n",
    "rf10 = df.iloc[:,4]      "
   ]
  },
  {
   "cell_type": "markdown",
   "id": "3cbe946e-f51d-419e-bf59-4e1da1cf1b34",
   "metadata": {},
   "source": [
    "## Question 1"
   ]
  },
  {
   "cell_type": "code",
   "execution_count": 10,
   "id": "aa7928f5-1032-4ac9-bd1f-835ba8a8b5f6",
   "metadata": {},
   "outputs": [
    {
     "data": {
      "text/plain": [
       "[<matplotlib.lines.Line2D at 0x12928fa10>]"
      ]
     },
     "execution_count": 10,
     "metadata": {},
     "output_type": "execute_result"
    },
    {
     "data": {
      "image/png": "[encoded data removed]",
      "text/plain": [
       "<Figure size 640x480 with 1 Axes>"
      ]
     },
     "metadata": {},
     "output_type": "display_data"
    }
   ],
   "source": [
    "erp = returns - rfrate     #excess return\n",
    "plt.plot(erp)"
   ]
  },
  {
   "cell_type": "code",
   "execution_count": 11,
   "id": "bbe28ef3-e4c5-4af2-a35a-b7d8b47dcc8c",
   "metadata": {},
   "outputs": [
    {
     "name": "stdout",
     "output_type": "stream",
     "text": [
      "                            OLS Regression Results                            \n",
      "==============================================================================\n",
      "Dep. Variable:                      y   R-squared:                       0.000\n",
      "Model:                            OLS   Adj. R-squared:                  0.000\n",
      "Method:                 Least Squares   F-statistic:                       nan\n",
      "Date:                Thu, 03 Oct 2024   Prob (F-statistic):                nan\n",
      "Time:                        09:22:35   Log-Likelihood:                -514.31\n",
      "No. Observations:                 648   AIC:                             1031.\n",
      "Df Residuals:                     647   BIC:                             1035.\n",
      "Df Model:                           0                                         \n",
      "Covariance Type:            nonrobust                                         \n",
      "==============================================================================\n",
      "                 coef    std err          t      P>|t|      [0.025      0.975]\n",
      "------------------------------------------------------------------------------\n",
      "const          0.0673      0.021      3.200      0.001       0.026       0.109\n",
      "==============================================================================\n",
      "Omnibus:                       46.062   Durbin-Watson:                   1.975\n",
      "Prob(Omnibus):                  0.000   Jarque-Bera (JB):               91.502\n",
      "Skew:                          -0.443   Prob(JB):                     1.35e-20\n",
      "Kurtosis:                       4.613   Cond. No.                         1.00\n",
      "==============================================================================\n",
      "\n",
      "Notes:\n",
      "[1] Standard Errors assume that the covariance matrix of the errors is correctly specified.\n"
     ]
    }
   ],
   "source": [
    "dim = erp.shape[0]     #sample size\n",
    "cons = np.ones(dim)    #create a vector of ones\n",
    "model = sm.OLS(12*erp, cons).fit()\n",
    "yhat = model.predict()\n",
    "print(model.summary())"
   ]
  },
  {
   "cell_type": "markdown",
   "id": "c865be1c-4d9a-437f-8cb8-32ab9a00770e",
   "metadata": {},
   "source": [
    "## Question 2.1"
   ]
  },
  {
   "cell_type": "markdown",
   "id": "226496e0-cefe-4b73-baf9-f710924b2c56",
   "metadata": {},
   "source": [
    "a. Sharp ratio"
   ]
  },
  {
   "cell_type": "code",
   "execution_count": 14,
   "id": "f91f27fb-aea6-4476-b4a4-59c7f3018f0f",
   "metadata": {},
   "outputs": [
    {
     "name": "stdout",
     "output_type": "stream",
     "text": [
      "The annualized sharpe ratio is 0.30\n"
     ]
    }
   ],
   "source": [
    "erp = returns- rf10\n",
    "vol_ret = np.std(returns)              \n",
    "annualized_vol = np.sqrt(12)*vol_ret               # Compute the annnualized volatility of returns\n",
    "\n",
    "mean_erp = np.mean(erp)\n",
    "annualized_erp = 12*mean_erp\n",
    "\n",
    "shratio = annualized_erp/annualized_vol              # Compute the Sharpe ratio\n",
    "print(\"The annualized sharpe ratio is %.2f\" % shratio)"
   ]
  },
  {
   "cell_type": "markdown",
   "id": "554644da-5f18-4089-baf3-5ba40d78779f",
   "metadata": {},
   "source": [
    "b. VaR"
   ]
  },
  {
   "cell_type": "code",
   "execution_count": 16,
   "id": "c99d6c2e-c480-41ca-b4d2-06f9dfc5adcc",
   "metadata": {},
   "outputs": [
    {
     "name": "stdout",
     "output_type": "stream",
     "text": [
      "The VaR is -8.24 percent.\n"
     ]
    }
   ],
   "source": [
    "alpha_var = 0.03\n",
    "returns_sorted = np.sort(returns)\n",
    "\n",
    "VaR = np.quantile(returns_sorted, alpha_var)\n",
    "print(\"The VaR is %.2f percent.\" % (100*VaR))"
   ]
  },
  {
   "cell_type": "markdown",
   "id": "c0abd9ce-536d-4f38-9892-3cc63ae1f660",
   "metadata": {},
   "source": [
    "c. Calculating Expected Shortfall"
   ]
  },
  {
   "cell_type": "code",
   "execution_count": 18,
   "id": "e37b9584-b650-4412-bbc6-299b6d75a462",
   "metadata": {},
   "outputs": [
    {
     "name": "stdout",
     "output_type": "stream",
     "text": [
      "The Expected Shortfall is -10.73 percent.\n"
     ]
    }
   ],
   "source": [
    "alpha_es = 0.03\n",
    "ES = returns_sorted[returns_sorted <= VaR].mean()       # Compute the expected shortfall\n",
    "print(\"The Expected Shortfall is %.2f percent.\" % (ES*100))"
   ]
  },
  {
   "cell_type": "markdown",
   "id": "da904385-a0d3-4ec2-8de1-3b06ec940f18",
   "metadata": {},
   "source": [
    "d. Calculating Skew"
   ]
  },
  {
   "cell_type": "code",
   "execution_count": 20,
   "id": "62be774f-b161-4550-b69c-56f162ba2da0",
   "metadata": {},
   "outputs": [
    {
     "name": "stdout",
     "output_type": "stream",
     "text": [
      "The skewness is -0.42.\n"
     ]
    }
   ],
   "source": [
    "sk = scp.stats.skew(returns)\n",
    "print(\"The skewness is %.2f.\" % sk)"
   ]
  },
  {
   "cell_type": "markdown",
   "id": "cb834915-90d8-49a9-aaca-16a180519788",
   "metadata": {},
   "source": [
    "e. Calculating Kurtosis"
   ]
  },
  {
   "cell_type": "code",
   "execution_count": 22,
   "id": "6b023b37-56d4-491e-be3b-77817ee49dd2",
   "metadata": {},
   "outputs": [
    {
     "name": "stdout",
     "output_type": "stream",
     "text": [
      "The kurtosis is 1.58.\n"
     ]
    }
   ],
   "source": [
    "kurt = scp.stats.kurtosis(returns)\n",
    "print(\"The kurtosis is %.2f.\" % kurt)"
   ]
  },
  {
   "cell_type": "markdown",
   "id": "e41cf02c-46aa-4455-83fc-afb4a825bb89",
   "metadata": {},
   "source": [
    "f. We now need to calculate Maximum Drawdown. We use the python code used in class to have a user written function."
   ]
  },
  {
   "cell_type": "code",
   "execution_count": 24,
   "id": "d652594b-0f24-4df4-81eb-cba509fb71c6",
   "metadata": {},
   "outputs": [],
   "source": [
    "def maxdrawdown(x): \n",
    "    \"\"\"\n",
    "    NumPy analog to corresponding MATLAB Financial Toolbox Function\n",
    "    OUTPUT: start, end, and max drawdown in terms of max percentage drop from a peak\n",
    "    \"\"\"\n",
    "    i = np.argmax(np.maximum.accumulate(x) - x) # end of period\n",
    "    j = np.argmax(x[:i]) # start of the period\n",
    "    percent_change = 100*( x[i] - x[j] ) / x[j]\n",
    "    return j,i,percent_change\n",
    "\n",
    "def datenum(date):\n",
    "    \"\"\"\n",
    "    Converts yyyymmdd dates to ordinal code\n",
    "    \"\"\"\n",
    "    dn = np.zeros(date.shape)\n",
    "    for i in range(len(date)):\n",
    "        dt = str(date[i])\n",
    "        dn[i] = dd.toordinal(dd(int(dt[0:4]),int(dt[4:6]),int(dt[6:8])))\n",
    "    return dn"
   ]
  },
  {
   "cell_type": "code",
   "execution_count": 25,
   "id": "6d09362d-5e91-44cf-b74e-38cf3eada4b3",
   "metadata": {},
   "outputs": [],
   "source": [
    "cumulativeret = np.cumprod(1+returns)\n",
    "\n",
    "MaxDDStartIndex, MaxDDEndIndex, MaxDD = maxdrawdown(cumulativeret)\n",
    "begdate = date[MaxDDStartIndex]\n",
    "enddate = date[MaxDDEndIndex]"
   ]
  },
  {
   "cell_type": "code",
   "execution_count": 27,
   "id": "c27de2ff-2aea-41d0-8e2b-b2a76033c259",
   "metadata": {},
   "outputs": [
    {
     "name": "stdout",
     "output_type": "stream",
     "text": [
      "The Maximum Drawdown is -23.67%.\n"
     ]
    }
   ],
   "source": [
    "print(f'The Maximum Drawdown is {MaxDD:.2f}%.')"
   ]
  },
  {
   "cell_type": "code",
   "execution_count": 31,
   "id": "8c7d96bc-dfc2-4eb5-b258-a606348f2429",
   "metadata": {},
   "outputs": [
    {
     "name": "stdout",
     "output_type": "stream",
     "text": [
      "Max VC DrawDown from date 12/31/2021 to date 09/30/2022\n"
     ]
    }
   ],
   "source": [
    "print(f'Max VC DrawDown from date {begdate} to date {enddate}')"
   ]
  },
  {
   "cell_type": "markdown",
   "id": "972875d9-8e50-417c-bb43-ee335b612ae4",
   "metadata": {},
   "source": [
    "g. Checking normality"
   ]
  },
  {
   "cell_type": "code",
   "execution_count": 44,
   "id": "7fcc2dfe-461b-4583-883e-2d9d1061434b",
   "metadata": {},
   "outputs": [
    {
     "data": {
      "text/plain": [
       "(array([  1.,   2.,   5.,  32.,  84., 218., 215.,  75.,  14.,   2.]),\n",
       " array([-0.215795 , -0.1774042, -0.1390134, -0.1006226, -0.0622318,\n",
       "        -0.023841 ,  0.0145498,  0.0529406,  0.0913314,  0.1297222,\n",
       "         0.168113 ]),\n",
       " <BarContainer object of 10 artists>)"
      ]
     },
     "execution_count": 44,
     "metadata": {},
     "output_type": "execute_result"
    },
    {
     "data": {
      "image/png": "[encoded data removed]",
      "text/plain": [
       "<Figure size 640x480 with 1 Axes>"
      ]
     },
     "metadata": {},
     "output_type": "display_data"
    }
   ],
   "source": [
    "plt.hist(returns)"
   ]
  },
  {
   "cell_type": "code",
   "execution_count": 64,
   "id": "86a6fa77-fb81-48c7-970e-0f7e8b4fb2fe",
   "metadata": {},
   "outputs": [
    {
     "name": "stdout",
     "output_type": "stream",
     "text": [
      "Sample does not looks Gaussian.\n"
     ]
    }
   ],
   "source": [
    "stats, p= stats.shapiro(returns)\n",
    "\n",
    "alpha = 0.05\n",
    "if p > 0.05:\n",
    "    print(\"Sample looks Gaussian.\")\n",
    "\n",
    "else:\n",
    "    print(\"Sample does not looks Gaussian.\")\n"
   ]
  },
  {
   "cell_type": "markdown",
   "id": "9142172e-64cc-4613-a5e0-53fe2e6befea",
   "metadata": {},
   "source": [
    "According to the histogram, "
   ]
  },
  {
   "cell_type": "markdown",
   "id": "8803f26b-da0d-41a7-986e-55adf69471e6",
   "metadata": {},
   "source": [
    "## Question 2.2"
   ]
  },
  {
   "cell_type": "code",
   "execution_count": 50,
   "id": "d4c425f4-1211-4004-830c-f52ccb20bd0d",
   "metadata": {},
   "outputs": [
    {
     "name": "stdout",
     "output_type": "stream",
     "text": [
      "optimal weights are [ 2033.69875063 -2032.69875063] with Sharpe ratio 0.079\n",
      "The mean of the tnagency portfolio is :3.60\n",
      "The variance of the tangency portfolio is : 2050.89\n",
      "The weight on the risky portfolio is : 0.00\n",
      "The return of the tangency portfolio is : 0.01\n"
     ]
    }
   ],
   "source": [
    "def Shratio(w,mu,Sigma,Rf): \n",
    "    portfolio_return = np.sum(mu * w) - Rf    # portfolio excess return\n",
    "    portfolio_vol    = np.sqrt(np.dot(w.T, np.dot(Sigma,w)))  # portfolio volatility\n",
    "    return portfolio_return / portfolio_vol\n",
    "\n",
    "Rf = rfrate[len(rfrate)-1]  # risk free rate\n",
    "n = 2                      # number of assets\n",
    "\n",
    "tbonds_ret = df.iloc[:,4]   # tbonds\n",
    "tbills_ret =df.iloc[:,6]    # tbills\n",
    "mean_tbonds = np.mean(tbonds_ret)  # 10年期国债的预期收益率\n",
    "mean_tbills = np.mean(tbills_ret)  # 股票的预期收益率\n",
    "\n",
    "mu = np.array([mean_tbonds, mean_tbills])\n",
    "Sigma = np.cov(tbonds_ret, tbills_ret)\n",
    "\n",
    "w0 = (np.ones((n,1))/n).flatten() #？？？\n",
    "\n",
    "cons = ({'type' : 'eq', 'fun': lambda x: x[0] + x[1] - 1}) # portfolio weights sum to 1\n",
    "\n",
    "# solve for tangency portfolio\n",
    "sol = scp.optimize.minimize(lambda w: -Shratio(w, mu, Sigma, Rf), x0 = w0, constraints = cons) \n",
    "w_uncon = sol.x\n",
    "val = -sol.fun\n",
    "\n",
    "print(f'optimal weights are {w_uncon} with Sharpe ratio {val:.2}')\n",
    "\n",
    "#### add risk-free asset\n",
    "gamma = 5                                       # gamma: risk aversion coefficient\n",
    "mu_uncon  = w_uncon.T.dot(mu)                   # mean of tangency portfolio\n",
    "var_uncon = w_uncon.T.dot(Sigma).dot(w_uncon)   # variance of tangency portfolio\n",
    "wT_con    = mu_uncon / (gamma * var_uncon)      # weight to be put in the tangency when maximizing mean variance utility\n",
    "rcon      = wT_con*mu_uncon + (1-wT_con)*Rf\n",
    "\n",
    "print(f'The mean of the tnagency portfolio is :{mu_uncon:.2f}')\n",
    "print(f'The variance of the tangency portfolio is : {var_uncon:.2f}')\n",
    "print(f'The weight on the risky portfolio is : {wT_con:.2f}')\n",
    "print(f'The return of the tangency portfolio is : {rcon:.2f}')"
   ]
  },
  {
   "cell_type": "markdown",
   "id": "4bb0d212-a5a1-4302-9ba2-81fe9c82cb89",
   "metadata": {},
   "source": [
    "## Question 2.3"
   ]
  },
  {
   "cell_type": "code",
   "execution_count": 62,
   "id": "45019313-8833-478e-bd76-d15843e84675",
   "metadata": {},
   "outputs": [
    {
     "name": "stdout",
     "output_type": "stream",
     "text": [
      "a. Stocks underperform bonds appro 43.52% of the time.\n",
      "b.i At the 1 year horizon stocks underperformed bonds 41.35% of the time.\n",
      "b.ii At the 5 year horizon stocks underperformed bonds 45.92% of the time.\n",
      "b.iii At the 10 year horizon stocks underperformed bonds 44.89% of the time.\n"
     ]
    }
   ],
   "source": [
    "delta = tbonds_ret - returns\n",
    "under=sum(delta > 0) / dim\n",
    "\n",
    "print(f'a. Stocks underperform bonds appro {under*100:.4}% of the time.')\n",
    "\n",
    "def CumReturnsAndDeltas(df, num_months, dim):\n",
    "    \n",
    "    ret =[]\n",
    "    delta = []\n",
    "    \n",
    "    for i in range(num_months, dim):\n",
    "        ret.append(np.array([(df.iloc[i,2] / df.iloc[i-num_months,2]) - 1,          # Stocks\n",
    "                                 ( df.iloc[i,5] / df.iloc[i-num_months,5] ) - 1,    # Bonds\n",
    "                                 ( df.iloc[i,7] / df.iloc[i-num_months,7] ) - 1,    # T-bill\n",
    "                                 ( df.iloc[i,11] / df.iloc[i-num_months,11] ) - 1,  # BTC\n",
    "                                 ( df.iloc[i,14] / df.iloc[i-num_months,14] ) - 1,  # Gold\n",
    "                                 ( df.iloc[i,9] / df.iloc[i-num_months,9] ) - 1 ])) # Inflation\n",
    "        delta.append(ret[i-num_months][1]- ret[i-num_months][0])\n",
    "\n",
    "    ret = np.array(ret)\n",
    "    delta = np.array(delta)    \n",
    "    return ret, delta\n",
    "\n",
    "ret_cumulative_1yr, delta_1yr = CumReturnsAndDeltas(df, 12, dim)\n",
    "delt_1yr = sum(delta_1yr > 0) / delta_1yr.shape[0]\n",
    "\n",
    "ret_cumulative_5yr, delta_5yr = CumReturnsAndDeltas(df, 60, dim)\n",
    "delt_5yr = np.sum(delta_5yr > 0) / delta_5yr.shape[0]\n",
    "\n",
    "ret_cumulative_10yr, delta_10yr = CumReturnsAndDeltas(df, 120, dim)\n",
    "delt_10yr = np.sum(delta_10yr > 0) / delta_10yr.shape[0]\n",
    "\n",
    "print( f'b.i At the 1 year horizon stocks underperformed bonds {delt_1yr*100:.4}% of the time.')\n",
    "\n",
    "print(f'b.ii At the 5 year horizon stocks underperformed bonds {delt_5yr*100:.4}% of the time.')\n",
    "\n",
    "print(f'b.iii At the 10 year horizon stocks underperformed bonds {delt_10yr*100:.4}% of the time.')"
   ]
  },
  {
   "cell_type": "code",
   "execution_count": null,
   "id": "b5d430db-74ee-46e1-a50f-c2cd83fc1fbc",
   "metadata": {},
   "outputs": [],
   "source": []
  }
 ],
 "metadata": {
  "kernelspec": {
   "display_name": "Python 3 (ipykernel)",
   "language": "python",
   "name": "python3"
  },
  "language_info": {
   "codemirror_mode": {
    "name": "ipython",
    "version": 3
   },
   "file_extension": ".py",
   "mimetype": "text/x-python",
   "name": "python",
   "nbconvert_exporter": "python",
   "pygments_lexer": "ipython3",
   "version": "3.12.4"
  }
 },
 "nbformat": 4,
 "nbformat_minor": 5
}
